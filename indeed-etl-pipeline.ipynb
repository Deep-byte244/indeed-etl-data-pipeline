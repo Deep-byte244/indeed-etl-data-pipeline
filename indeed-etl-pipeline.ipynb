{
 "cells": [
  {
   "attachments": {
    "indeed-diagram.png": {
     "image/png": "[encoded data removed]"
    }
   },
   "cell_type": "markdown",
   "id": "6a5e0a65",
   "metadata": {},
   "source": [
    "![indeed-diagram.png](attachment:indeed-diagram.png)"
   ]
  },
  {
   "cell_type": "markdown",
   "id": "a871cf82",
   "metadata": {},
   "source": [
    "## Extraction:\n",
    "The code extracts job data from the Indeed website by using Selenium to scrape job links and details. It retrieves job titles, descriptions, locations, salaries, and other relevant information.\n",
    "\n",
    "## Transformation:\n",
    "The extracted job data is transformed using pandas, a powerful data manipulation library. The job data is structured into a pandas DataFrame, allowing for further analysis and processing. Additional transformations can be applied based on specific requirements.\n",
    "\n",
    "## Load:\n",
    "The transformed job data is saved to a CSV file using the save_job_data_to_csv function. The CSV file contains the structured job data in a tabular format, making it easy to store and share.\n",
    "\n",
    "## Additional Operations:\n",
    "The code includes functionality to upload the CSV file to an Amazon S3 bucket using the upload_to_s3 function. This allows for cloud storage and accessibility of the job data.\n",
    "\n",
    "Please note that the provided code snippet does not include the complete ETL process, such as scheduling the extraction and loading process. You can build upon this code to automate the ETL process using tools like AWS Lambda or Apache Airflow.\n",
    "\n",
    "#### For a more detailed guide on how to use Apache Airflow for ETL processes, you can refer to this video: https://youtu.be/q8q3OFFfY6c"
   ]
  },
  {
   "cell_type": "code",
   "execution_count": 16,
   "id": "0c3815cc",
   "metadata": {},
   "outputs": [],
   "source": [
    "import csv\n",
    "import time\n",
    "import pandas as pd\n",
    "from selenium import webdriver\n",
    "from selenium.common.exceptions import WebDriverException\n",
    "from bs4 import BeautifulSoup\n",
    "from datetime import datetime, timedelta\n",
    "import logging\n",
    "import boto3\n",
    "from botocore.exceptions import NoCredentialsError"
   ]
  },
  {
   "cell_type": "code",
   "execution_count": 17,
   "id": "40db3940",
   "metadata": {},
   "outputs": [],
   "source": [
    "logging.basicConfig(filename='job_scraper.log', level=logging.ERROR, format='%(asctime)s - %(levelname)s - %(message)s')\n",
    "\n",
    "def setup_webdriver():\n",
    "    try:\n",
    "        driver = webdriver.Chrome()\n",
    "        return driver\n",
    "    except WebDriverException as e:\n",
    "        logging.error(f'Error occurred while setting up WebDriver: {e}')\n",
    "        return None"
   ]
  },
  {
   "cell_type": "code",
   "execution_count": 18,
   "id": "ea884364",
   "metadata": {},
   "outputs": [],
   "source": [
    "def scrape_job_links(driver, url):\n",
    "    try:\n",
    "        driver.get(url)\n",
    "        time.sleep(2)  # Sleep for a few seconds to allow the page to load\n",
    "\n",
    "        count = driver.find_elements(\"css selector\", \"div.jobsearch-JobCountAndSortPane-jobCount.css-1af0d6o.eu4oa1w0\")\n",
    "        job_count_text = count[0].text.strip()\n",
    "        job_count = int(job_count_text.split()[0])\n",
    "        print(\"Job Count:\", job_count)\n",
    "\n",
    "        href_values = []\n",
    "\n",
    "        while len(href_values) < job_count:\n",
    "            a_elements = driver.find_elements(\"css selector\", \"a.jcs-JobTitle.css-jspxzf.eu4oa1w0\")\n",
    "            for element in a_elements:\n",
    "                href_value = element.get_attribute(\"href\")\n",
    "                href_values.append(href_value)\n",
    "\n",
    "            if len(href_values) >= job_count:\n",
    "                break\n",
    "\n",
    "            driver.get(url)\n",
    "            time.sleep(2)  # Sleep for a few seconds to allow the page to load\n",
    "\n",
    "        return href_values\n",
    "    except Exception as e:\n",
    "        logging.error(f'Error occurred while scraping job links: {e}')\n",
    "        return []"
   ]
  },
  {
   "cell_type": "code",
   "execution_count": 19,
   "id": "eb72fa73",
   "metadata": {},
   "outputs": [],
   "source": [
    "def fetch_job_details(driver, url):\n",
    "    try:\n",
    "        driver.get(url)\n",
    "        time.sleep(2)  # Sleep for a few seconds to allow the page to load\n",
    "\n",
    "        page_source = driver.page_source\n",
    "        soup = BeautifulSoup(page_source, 'html.parser')\n",
    "\n",
    "        title = soup.find(\"h1\", class_=\"icl-u-xs-mb--xs icl-u-xs-mt--none jobsearch-JobInfoHeader-title\")\n",
    "        job_title = title.text.strip() if title else None\n",
    "\n",
    "        description = soup.find(\"div\", class_=\"jobsearch-jobDescriptionText\")\n",
    "        job_description = description.text.strip() if description else None\n",
    "\n",
    "        company_location = soup.find(attrs={\"data-testid\": \"inlineHeader-companyLocation\"})\n",
    "        company_location = company_location.text.strip() if company_location else None\n",
    "\n",
    "        salary_info_and_job_type = soup.find(\"div\", {\"id\":\"salaryInfoAndJobType\"})\n",
    "        salary_info_and_job_type = salary_info_and_job_type.text.strip() if salary_info_and_job_type else None\n",
    "\n",
    "        current_date = datetime.now().date()\n",
    "        previous_date = current_date - timedelta(days=1)\n",
    "\n",
    "        return {'Job Title': job_title, 'Posted Date': previous_date, 'Salary and Job Type': salary_info_and_job_type, 'Location': company_location, 'Job Description': job_description,'url':url}\n",
    "    except Exception as e:\n",
    "        logging.error(f'Error occurred while fetching job details for URL: {url}\\nError: {e}')\n",
    "        return {}"
   ]
  },
  {
   "cell_type": "code",
   "execution_count": 20,
   "id": "f8253a06",
   "metadata": {},
   "outputs": [],
   "source": [
    "def scrape_job_data(url):\n",
    "    driver = setup_webdriver()\n",
    "    if driver is None:\n",
    "        return None\n",
    "\n",
    "    href_values = scrape_job_links(driver, url)\n",
    "    if not href_values:\n",
    "        return None\n",
    "\n",
    "    job_data = []\n",
    "    for url in href_values:\n",
    "        job_details = fetch_job_details(driver, url)\n",
    "        if job_details:\n",
    "            job_data.append(job_details)\n",
    "\n",
    "    driver.quit()\n",
    "\n",
    "    return pd.DataFrame(job_data)\n",
    "\n",
    "def save_job_data_to_csv(df, file_name):\n",
    "    try:\n",
    "        df.to_csv(file_name, index=False)\n",
    "        print(f\"Job data exported to {file_name}\")\n",
    "        return True\n",
    "    except Exception as e:\n",
    "        logging.error(f'Error occurred while saving job data to CSV: {e}')\n",
    "        return False"
   ]
  },
  {
   "cell_type": "code",
   "execution_count": 21,
   "id": "48d354a4",
   "metadata": {},
   "outputs": [],
   "source": [
    "def upload_to_s3(file_path, bucket, object_name):\n",
    "    session = boto3.Session(\n",
    "        aws_access_key_id=aws_access_key_id,\n",
    "        aws_secret_access_key=aws_secret_access_key\n",
    "    )\n",
    "    s3 = session.client('s3')\n",
    "    \n",
    "\n",
    "    try:\n",
    "        s3.upload_file(file_path, bucket, object_name)\n",
    "        print(f\"File uploaded to S3 bucket: {bucket}/{object_name}\")\n",
    "        return True\n",
    "    except NoCredentialsError:\n",
    "        logging.error(\"AWS credentials not found.\")\n",
    "        return False\n",
    "    except Exception as e:\n",
    "        logging.error(f\"Error occurred while uploading file to S3: {e}\")\n",
    "        return False"
   ]
  },
  {
   "cell_type": "markdown",
   "id": "1a4b6fa6",
   "metadata": {},
   "source": [
    "### Please note that the options represent the age of the data, indicating the time period for which you want to retrieve the data. \n",
    "#### fromage=1\n",
    "1. No. 1 use for 24hr old data\n",
    "2. No. 7 use for Last 3 days\n",
    "3. No. 7 use for Last 7 days\n",
    "4. No. 14 use for Last 14 days\n",
    "5. keyword 'last' use for Since for your last visit"
   ]
  },
  {
   "cell_type": "code",
   "execution_count": 23,
   "id": "7f3d3d47",
   "metadata": {
    "scrolled": true
   },
   "outputs": [
    {
     "name": "stdout",
     "output_type": "stream",
     "text": [
      "Job Count: 9\n",
      "Job data exported to job_listings_2023-07-09.csv\n",
      "File uploaded to S3 bucket: indeed-data-etl-pipeline/job_listings/job_listings_2023-07-09.csv\n",
      "Job data uploaded to S3: indeed-data-etl-pipeline/job_listings/job_listings_2023-07-09.csv\n"
     ]
    }
   ],
   "source": [
    "# Set up configuration\n",
    "q = \"cyber+security\"\n",
    "l = \"Toronto%2C+ON\"\n",
    "limit = 50\n",
    "start = 0\n",
    "formage=1\n",
    "\n",
    "url = f\"https://ca.indeed.com/jobs?q={q}&l={l}&limit={limit}&fromage={formage}\"\n",
    "\n",
    "#put your aws_access_key_id and aws_secret_access_key\n",
    "aws_access_key_id = ''\n",
    "aws_secret_access_key = ''\n",
    "\n",
    "# Scrape job data\n",
    "df = scrape_job_data(url)\n",
    "\n",
    "# Save job data to CSV\n",
    "if df is not None:\n",
    "    current_date = datetime.now().date()\n",
    "    previous_date = current_date - timedelta(days=1)\n",
    "    file_name = f\"job_listings_{previous_date}.csv\"\n",
    "    save_success = save_job_data_to_csv(df, file_name)\n",
    "    if save_success:\n",
    "        # Set your S3 bucket details\n",
    "        s3_bucket = 'indeed-data-etl-pipeline'\n",
    "        s3_file_name = f\"job_listings/{file_name}\"  # Assuming a \"job_listings\" folder in the bucket\n",
    "\n",
    "        # Upload the CSV file to S3\n",
    "        upload_success = upload_to_s3(file_name, s3_bucket, s3_file_name)\n",
    "        if upload_success:\n",
    "            print(f\"Job data uploaded to S3: {s3_bucket}/{s3_file_name}\")\n",
    "else:\n",
    "    logging.error(\"No job data to save.\")"
   ]
  },
  {
   "cell_type": "code",
   "execution_count": null,
   "id": "eb2bdb92",
   "metadata": {},
   "outputs": [],
   "source": []
  },
  {
   "cell_type": "code",
   "execution_count": null,
   "id": "499e9c61",
   "metadata": {},
   "outputs": [],
   "source": []
  },
  {
   "cell_type": "code",
   "execution_count": null,
   "id": "a49a4a7e",
   "metadata": {},
   "outputs": [],
   "source": []
  }
 ],
 "metadata": {
  "kernelspec": {
   "display_name": "Python 3 (ipykernel)",
   "language": "python",
   "name": "python3"
  },
  "language_info": {
   "codemirror_mode": {
    "name": "ipython",
    "version": 3
   },
   "file_extension": ".py",
   "mimetype": "text/x-python",
   "name": "python",
   "nbconvert_exporter": "python",
   "pygments_lexer": "ipython3",
   "version": "3.9.13"
  }
 },
 "nbformat": 4,
 "nbformat_minor": 5
}
